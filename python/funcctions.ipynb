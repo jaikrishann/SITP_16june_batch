{
 "cells": [
  {
   "cell_type": "code",
   "execution_count": null,
   "id": "d0bf13a8",
   "metadata": {},
   "outputs": [],
   "source": [
    "## funcctions -- aapke koi bhi task ko repetitive karwane ka kaam karte hai \n",
    "## functions are if two type \n",
    "## 1. built in functions --type , len , print    \n",
    "## 2. user defined functions        "
   ]
  },
  {
   "cell_type": "code",
   "execution_count": 2,
   "id": "856e94c5",
   "metadata": {},
   "outputs": [
    {
     "name": "stdout",
     "output_type": "stream",
     "text": [
      "hello\n"
     ]
    }
   ],
   "source": [
    "def name():\n",
    "    ##block of code \n",
    "    print(\"hello\")\n",
    "\n",
    "##callling a fucntion \n",
    "name()\n"
   ]
  },
  {
   "cell_type": "code",
   "execution_count": null,
   "id": "3b8834ba",
   "metadata": {},
   "outputs": [],
   "source": [
    "##paramters and arguments \n",
    "\n",
    "#parameters -- information jo aap pass karte ho function \n",
    "# ko bnate time\n",
    "#arguments -- wo info jo aap function ko call karte time dete ho "
   ]
  },
  {
   "cell_type": "code",
   "execution_count": 4,
   "id": "71a9c782",
   "metadata": {},
   "outputs": [
    {
     "name": "stdout",
     "output_type": "stream",
     "text": [
      "30\n"
     ]
    }
   ],
   "source": [
    "##function without parameters\n",
    "def addd():\n",
    "    a = 10 \n",
    "    b = 20 \n",
    "    print(a+b)\n",
    "\n",
    "\n",
    "addd()"
   ]
  },
  {
   "cell_type": "code",
   "execution_count": 7,
   "id": "f40f5d80",
   "metadata": {},
   "outputs": [
    {
     "data": {
      "text/plain": [
       "30202939"
      ]
     },
     "execution_count": 7,
     "metadata": {},
     "output_type": "execute_result"
    }
   ],
   "source": [
    "def addition(a,b):\n",
    "    return a+b\n",
    "\n",
    "addition(200000,30002939)"
   ]
  },
  {
   "cell_type": "code",
   "execution_count": 8,
   "id": "f62a77ad",
   "metadata": {},
   "outputs": [
    {
     "name": "stdout",
     "output_type": "stream",
     "text": [
      "the youngest child is linus\n"
     ]
    }
   ],
   "source": [
    "##arbitary arguments -- *args --\n",
    "##jab aapko nahi pata hota ki no of arguments kitne pass honge \n",
    "\n",
    "def child(*kids):\n",
    "    print(\"the youngest child is \" + kids[2])\n",
    "\n",
    "child(\"emil\",\"tobias\",\"linus\")"
   ]
  },
  {
   "cell_type": "code",
   "execution_count": 9,
   "id": "67b34c02",
   "metadata": {},
   "outputs": [
    {
     "name": "stdout",
     "output_type": "stream",
     "text": [
      "the youngest child is emil\n"
     ]
    }
   ],
   "source": [
    "##keyword arguments \n",
    "#key value pair me pass hota hai\n",
    "\n",
    "def child(child1,child2,child3):\n",
    "    print(\"the youngest child is \" + child3)\n",
    "\n",
    "child(child3=\"emil\",child1=\"tobias\",child2=\"linus\")"
   ]
  },
  {
   "cell_type": "code",
   "execution_count": 10,
   "id": "90a509cd",
   "metadata": {},
   "outputs": [
    {
     "name": "stdout",
     "output_type": "stream",
     "text": [
      "the youngest child is emil\n"
     ]
    }
   ],
   "source": [
    "##arbitary keyword arguments -- **kwargs\n",
    "\n",
    "def child(**kids):\n",
    "    print(\"the youngest child is \" + kids[\"child3\"])\n",
    "\n",
    "child(child3=\"emil\",child1=\"tobias\",child2=\"linus\")"
   ]
  },
  {
   "cell_type": "code",
   "execution_count": 14,
   "id": "17d80c26",
   "metadata": {},
   "outputs": [
    {
     "name": "stdout",
     "output_type": "stream",
     "text": [
      "i am from USA\n",
      "i am from japan\n",
      "i am from india\n"
     ]
    }
   ],
   "source": [
    "##default parameter value \n",
    "def country(name = \"india\"):\n",
    "    print(\"i am from \" + name)\n",
    "\n",
    "country(\"USA\")\n",
    "country(\"japan\")\n",
    "country()"
   ]
  },
  {
   "cell_type": "code",
   "execution_count": null,
   "id": "65af879e",
   "metadata": {},
   "outputs": [],
   "source": [
    "## you have to make a function which can calculate the avg of a list "
   ]
  },
  {
   "cell_type": "code",
   "execution_count": 16,
   "id": "4149d01d",
   "metadata": {},
   "outputs": [
    {
     "name": "stdout",
     "output_type": "stream",
     "text": [
      "['apple', 'banana', 'cherry']\n",
      "['apple', 'banana', 'cherry']\n",
      "['apple', 'banana', 'cherry']\n"
     ]
    }
   ],
   "source": [
    "def fruits(name):\n",
    "    for i in name:\n",
    "        print(name)\n",
    "        \n",
    "fruits([\"apple\",\"banana\",\"cherry\"])"
   ]
  },
  {
   "cell_type": "code",
   "execution_count": 19,
   "id": "773692bd",
   "metadata": {},
   "outputs": [
    {
     "data": {
      "text/plain": [
       "0.2"
      ]
     },
     "execution_count": 19,
     "metadata": {},
     "output_type": "execute_result"
    }
   ],
   "source": [
    "def avg(name):\n",
    "    for i in name:\n",
    "        total = 0\n",
    "        avg = (i/len(name))\n",
    "        return avg\n",
    "avg([1,2,3,4,5])"
   ]
  },
  {
   "cell_type": "code",
   "execution_count": 20,
   "id": "75336f61",
   "metadata": {},
   "outputs": [
    {
     "data": {
      "text/plain": [
       "3.0"
      ]
     },
     "execution_count": 20,
     "metadata": {},
     "output_type": "execute_result"
    }
   ],
   "source": [
    "def avgg(name):\n",
    "    return sum(name)/len(name)\n",
    "\n",
    "\n",
    "avgg([1,2,3,4,5])"
   ]
  },
  {
   "cell_type": "code",
   "execution_count": 21,
   "id": "15ce1217",
   "metadata": {},
   "outputs": [],
   "source": [
    "\n",
    "#  Function to find the largest among three numbers"
   ]
  },
  {
   "cell_type": "code",
   "execution_count": null,
   "id": "a6d3ddc5",
   "metadata": {},
   "outputs": [],
   "source": [
    "##some built in functions -- lambda , map , filter , reduce , zip , enumerate"
   ]
  },
  {
   "cell_type": "code",
   "execution_count": null,
   "id": "ff19f277",
   "metadata": {},
   "outputs": [],
   "source": [
    "##lambda -- smalll anonymous function\n",
    "##lambda arguments : expression"
   ]
  },
  {
   "cell_type": "code",
   "execution_count": 25,
   "id": "d2ecf348",
   "metadata": {},
   "outputs": [
    {
     "name": "stdout",
     "output_type": "stream",
     "text": [
      "1055\n"
     ]
    }
   ],
   "source": [
    "x = lambda a : a + 10\n",
    "x = lambda a,b : a + b \n",
    "x = lambda a,b,c,d : a + b + c + d \n",
    "print(x(5,1000,20,30))"
   ]
  },
  {
   "cell_type": "code",
   "execution_count": 26,
   "id": "f8b45141",
   "metadata": {},
   "outputs": [
    {
     "name": "stdout",
     "output_type": "stream",
     "text": [
      "[4, 9, 16]\n"
     ]
    }
   ],
   "source": [
    "#\n",
    "def fun(ls):\n",
    "    ls1 = []\n",
    "    for i in ls:\n",
    "        ls1.append(i*i)\n",
    "    print(ls1)\n",
    "\n",
    "ls = [2,3,4]\n",
    "fun(ls)"
   ]
  },
  {
   "cell_type": "code",
   "execution_count": 27,
   "id": "4c329272",
   "metadata": {},
   "outputs": [],
   "source": [
    "##map -- used to apply a function to each item in an \n",
    "# iterable and returns a map object\n",
    "##map(function,iterable)\n",
    "\n",
    "def sq(n):\n",
    "    return n * n"
   ]
  },
  {
   "cell_type": "code",
   "execution_count": 30,
   "id": "2c43d044",
   "metadata": {},
   "outputs": [
    {
     "data": {
      "text/plain": [
       "[1, 4, 9, 16, 25]"
      ]
     },
     "execution_count": 30,
     "metadata": {},
     "output_type": "execute_result"
    }
   ],
   "source": [
    "x = [1,2,3,4,5]\n",
    "result = list(map(lambda n : n*n,x))\n",
    "result"
   ]
  },
  {
   "cell_type": "code",
   "execution_count": 31,
   "id": "1e2b329d",
   "metadata": {},
   "outputs": [
    {
     "data": {
      "text/plain": [
       "[2, 4]"
      ]
     },
     "execution_count": 31,
     "metadata": {},
     "output_type": "execute_result"
    }
   ],
   "source": [
    "##filter(function,iterable) -- return filter object \n",
    "\n",
    "x = [1,2,3,4,5]\n",
    "result = list(filter(lambda n : n%2 == 0,x))\n",
    "result"
   ]
  },
  {
   "cell_type": "code",
   "execution_count": 34,
   "id": "4d6fce51",
   "metadata": {},
   "outputs": [
    {
     "data": {
      "text/plain": [
       "15"
      ]
     },
     "execution_count": 34,
     "metadata": {},
     "output_type": "execute_result"
    }
   ],
   "source": [
    "##reduce \n",
    "from functools import reduce\n",
    "##reduce -- a single elemt will be returned \n",
    "##reduce(function,iterable)\n",
    "result = reduce(lambda n1,n2 : n1+n2,x)\n",
    "result\n",
    "\n",
    "#left to right \n",
    "## [3,3,4,5] -- [6,4,5] -- [10,5] -- [15]"
   ]
  },
  {
   "cell_type": "code",
   "execution_count": 36,
   "id": "b882a05c",
   "metadata": {},
   "outputs": [
    {
     "data": {
      "text/plain": [
       "[(1, 'red'), (2, 'black')]"
      ]
     },
     "execution_count": 36,
     "metadata": {},
     "output_type": "execute_result"
    }
   ],
   "source": [
    "#zip -- used to combine two or more iterables into a single one\n",
    "##zip(iterable)\n",
    "\n",
    "x = [1,2,]\n",
    "y = [\"red\",\"black\",\"blue\"]\n",
    "result = list(zip(x,y))\n",
    "result"
   ]
  },
  {
   "cell_type": "code",
   "execution_count": 39,
   "id": "7185fe60",
   "metadata": {},
   "outputs": [
    {
     "data": {
      "text/plain": [
       "[(10, 'red'), (11, 'black'), (12, 'blue')]"
      ]
     },
     "execution_count": 39,
     "metadata": {},
     "output_type": "execute_result"
    }
   ],
   "source": [
    "##enumerate \n",
    "##enumerate(iterable,start=0)\n",
    "\n",
    "x = [\"red\",\"black\",\"blue\"]\n",
    "result = list(enumerate(x,start=10),)\n",
    "result"
   ]
  },
  {
   "cell_type": "code",
   "execution_count": null,
   "id": "ef6afcc7",
   "metadata": {},
   "outputs": [],
   "source": []
  }
 ],
 "metadata": {
  "kernelspec": {
   "display_name": "Python 3",
   "language": "python",
   "name": "python3"
  },
  "language_info": {
   "codemirror_mode": {
    "name": "ipython",
    "version": 3
   },
   "file_extension": ".py",
   "mimetype": "text/x-python",
   "name": "python",
   "nbconvert_exporter": "python",
   "pygments_lexer": "ipython3",
   "version": "3.11.9"
  }
 },
 "nbformat": 4,
 "nbformat_minor": 5
}
