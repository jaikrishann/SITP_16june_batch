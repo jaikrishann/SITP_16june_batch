{
 "cells": [
  {
   "cell_type": "code",
   "execution_count": null,
   "id": "189daf85",
   "metadata": {},
   "outputs": [],
   "source": [
    "#conditional statements -- if , else , elif \n",
    "##logical operatrs -- and , or , not"
   ]
  },
  {
   "cell_type": "code",
   "execution_count": 3,
   "id": "2280ff3d",
   "metadata": {},
   "outputs": [
    {
     "name": "stdout",
     "output_type": "stream",
     "text": [
      "hello\n"
     ]
    }
   ],
   "source": [
    "a = 100 \n",
    "b = 0 \n",
    "c = 30 \n",
    "if not(a<c or  a==b):\n",
    "    ##indentation  - part of syntax\n",
    "    print(\"hello\") \n",
    "# elif a==b:\n",
    "#     print(\"hi\")\n",
    "else :\n",
    "    print(\"world\")"
   ]
  },
  {
   "cell_type": "code",
   "execution_count": null,
   "id": "cd3ab19c",
   "metadata": {},
   "outputs": [],
   "source": [
    "##nested if else -- if else inside if else\n",
    "x = 10 \n",
    "if x>0:\n",
    "    if x%2==0:\n",
    "        print(\"even\")\n",
    "    else:\n",
    "        print(\"odd\")\n",
    "else:\n",
    "    print(\"negative\")"
   ]
  },
  {
   "cell_type": "code",
   "execution_count": 8,
   "id": "319a79d6",
   "metadata": {},
   "outputs": [
    {
     "name": "stdout",
     "output_type": "stream",
     "text": [
      "a is greater\n"
     ]
    }
   ],
   "source": [
    "##ternary operator -- one line if else\n",
    "a = 40\n",
    "b = 20 \n",
    "print(\"a is greater\") if a>b else print(\"b is greater\")"
   ]
  },
  {
   "cell_type": "code",
   "execution_count": null,
   "id": "3d0d3421",
   "metadata": {},
   "outputs": [],
   "source": [
    "# value_if_true if condition else value_if_false"
   ]
  },
  {
   "cell_type": "code",
   "execution_count": null,
   "id": "4b52aab9",
   "metadata": {},
   "outputs": [],
   "source": [
    "#nested ternary operator\n",
    "marks = 85 \n",
    "grade = \"a\" if marks >=90 else \"B\" if marks >=75 else \"C\" if marks >=60 else \"f\"\n",
    "print(\"your grade is \",grade)"
   ]
  },
  {
   "cell_type": "code",
   "execution_count": null,
   "id": "c60c560c",
   "metadata": {},
   "outputs": [],
   "source": []
  }
 ],
 "metadata": {
  "kernelspec": {
   "display_name": "Python 3",
   "language": "python",
   "name": "python3"
  },
  "language_info": {
   "codemirror_mode": {
    "name": "ipython",
    "version": 3
   },
   "file_extension": ".py",
   "mimetype": "text/x-python",
   "name": "python",
   "nbconvert_exporter": "python",
   "pygments_lexer": "ipython3",
   "version": "3.11.9"
  }
 },
 "nbformat": 4,
 "nbformat_minor": 5
}
