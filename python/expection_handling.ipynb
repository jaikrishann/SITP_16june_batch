{
 "cells": [
  {
   "cell_type": "code",
   "execution_count": null,
   "id": "1e5f4204",
   "metadata": {},
   "outputs": [],
   "source": [
    "#expection -- error handling\n",
    "##try , except , else , finally\n"
   ]
  },
  {
   "cell_type": "code",
   "execution_count": 2,
   "id": "5cce85c5",
   "metadata": {},
   "outputs": [],
   "source": [
    "# SyntaxError – Raised when there is an incorrect syntax in the code.\n",
    "\n",
    "# IndentationError – Raised when indentation is not correct (e.g., unexpected indent).\n",
    "\n",
    "# NameError – Raised when a variable or name is not defined.\n",
    "\n",
    "# TypeError – Raised when an operation is applied to an object of inappropriate type.\n",
    "\n",
    "# ValueError – Raised when a function receives an argument of the right type but wrong value.\n",
    "\n",
    "# IndexError – Raised when trying to access an index that is out of range in a list or tuple.\n",
    "\n",
    "# KeyError – Raised when a dictionary key is not found.\n",
    "\n",
    "# AttributeError – Raised when an invalid attribute is accessed on an object.\n",
    "\n",
    "# ZeroDivisionError – Raised when a number is divided by zero.\n",
    "\n",
    "# ImportError – Raised when an import statement fails.\n",
    "\n",
    "# ModuleNotFoundError – Raised when a module cannot be found.\n",
    "\n",
    "# FileNotFoundError – Raised when a file or directory is requested but doesn’t exist.\n",
    "\n",
    "# OverflowError – Raised when a number is too large to be represented.\n",
    "\n",
    "# RuntimeError – Raised when an error doesn't fall into other categories.\n",
    "\n",
    "# StopIteration – Raised by iterators to signal that there are no more items.\n",
    "\n",
    "# EOFError – Raised when input() hits an end-of-file condition.\n",
    "\n",
    "# AssertionError – Raised when an assert statement fails.\n",
    "\n",
    "# MemoryError – Raised when an operation runs out of memory.\n",
    "\n",
    "# FloatingPointError – Raised when a floating point operation fails.\n",
    "\n",
    "# NotImplementedError – Raised when a feature is not implemented.\n",
    "\n",
    "# OSError – Raised when a system-related operation fails (like file or directory access).\n",
    "\n",
    "# KeyboardInterrupt – Raised when the user interrupts the program (e.g., Ctrl+C).\n",
    "\n",
    "# SystemExit – Raised when sys.exit() is called to exit the program."
   ]
  },
  {
   "cell_type": "code",
   "execution_count": null,
   "id": "925f9cd3",
   "metadata": {},
   "outputs": [],
   "source": [
    "##try -- your code will be written in this \n",
    "##except -- it is used to handle the exception\n",
    "##else -- \n",
    "##finally -- it always runs whether there is error or not "
   ]
  },
  {
   "cell_type": "code",
   "execution_count": 7,
   "id": "38f74809",
   "metadata": {},
   "outputs": [
    {
     "name": "stdout",
     "output_type": "stream",
     "text": [
      "this is exception -------- division by zero\n",
      "this is finally part\n"
     ]
    }
   ],
   "source": [
    "try:\n",
    "    print(10/0)\n",
    "except ZeroDivisionError as e:               ##as -- alias\n",
    "    print(\"this is exception\", \"--------\",e)\n",
    "else:\n",
    "    print(\"this is else part\")\n",
    "finally:\n",
    "    print(\"this is finally part\")"
   ]
  },
  {
   "cell_type": "code",
   "execution_count": null,
   "id": "8827cb88",
   "metadata": {},
   "outputs": [],
   "source": []
  },
  {
   "cell_type": "code",
   "execution_count": null,
   "metadata": {},
   "outputs": [],
   "source": []
  },
  {
   "cell_type": "code",
   "execution_count": null,
   "id": "28f02321",
   "metadata": {},
   "outputs": [],
   "source": []
  },
  {
   "cell_type": "code",
   "execution_count": null,
   "id": "fce45f0c",
   "metadata": {},
   "outputs": [],
   "source": []
  },
  {
   "cell_type": "code",
   "execution_count": null,
   "id": "95c17b54",
   "metadata": {},
   "outputs": [],
   "source": []
  }
 ],
 "metadata": {
  "kernelspec": {
   "display_name": "Python 3",
   "language": "python",
   "name": "python3"
  },
  "language_info": {
   "codemirror_mode": {
    "name": "ipython",
    "version": 3
   },
   "file_extension": ".py",
   "mimetype": "text/x-python",
   "name": "python",
   "nbconvert_exporter": "python",
   "pygments_lexer": "ipython3",
   "version": "3.11.9"
  }
 },
 "nbformat": 4,
 "nbformat_minor": 5
}
