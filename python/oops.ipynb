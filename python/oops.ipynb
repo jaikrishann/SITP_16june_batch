{
 "cells": [
  {
   "cell_type": "code",
   "execution_count": null,
   "id": "95c97425",
   "metadata": {},
   "outputs": [],
   "source": [
    "##oops -- object oriented programming\n",
    "##python is an object oriented programming language\n",
    "##class , object , method , constructor \n",
    "##4 pillar oops \n",
    "##1)\n",
    "##2) encapsulation\n",
    "##3) inheritance --> single , multiple , multilevel\n",
    "##4) polymorphism"
   ]
  },
  {
   "cell_type": "code",
   "execution_count": null,
   "id": "5fb4b7cd",
   "metadata": {},
   "outputs": [],
   "source": [
    "# class and object\n",
    "# class -- blueprint for creating object \n",
    "# object -- real world entity\n",
    "# object is an instance of class "
   ]
  },
  {
   "cell_type": "code",
   "execution_count": 3,
   "id": "d5e658e8",
   "metadata": {},
   "outputs": [
    {
     "name": "stdout",
     "output_type": "stream",
     "text": [
      "hello\n",
      "xyz\n",
      "100\n",
      "2020\n"
     ]
    }
   ],
   "source": [
    "class car:\n",
    "    ##class variables \n",
    "    num1 = 100\n",
    "    name = \"xyz\"\n",
    "    model= 2020\n",
    "    ##methods\n",
    "    def display(self):\n",
    "        print(\"hello\")\n",
    "        print(self.name)\n",
    "        print(self.num1)\n",
    "        print(self.model)\n",
    "\n",
    "\n",
    "##object -- \n",
    "obj=car()\n",
    "obj.display()"
   ]
  },
  {
   "cell_type": "code",
   "execution_count": 3,
   "id": "c0f14375",
   "metadata": {},
   "outputs": [
    {
     "name": "stdout",
     "output_type": "stream",
     "text": [
      "name: dog\n",
      "age: 2\n",
      "name: cat\n",
      "age: 3\n"
     ]
    }
   ],
   "source": [
    "# __init__ constructor -- magic keyword\n",
    "#variables ko initialize krne ke liye\n",
    "class Animal:\n",
    "    def __init__(self,name,age):\n",
    "        self.name_var=name\n",
    "        self.age_var=age\n",
    "\n",
    "    def show(self):\n",
    "        print(\"name:\",self.name_var)\n",
    "        print(\"age:\",self.age_var)\n",
    "\n",
    "obj = Animal(\"dog\",2)\n",
    "obj.show()\n",
    "\n",
    "obj1 = Animal(\"cat\",3)\n",
    "obj1.show()"
   ]
  },
  {
   "cell_type": "code",
   "execution_count": null,
   "id": "e02c1fbf",
   "metadata": {},
   "outputs": [],
   "source": [
    "##inhertiance -- single , multiple , multilevel\n",
    "\n",
    "##single --1 parent class ,1  child class"
   ]
  },
  {
   "cell_type": "code",
   "execution_count": 9,
   "id": "21e1b541",
   "metadata": {
    "vscode": {
     "languageId": "ruby"
    }
   },
   "outputs": [
    {
     "name": "stdout",
     "output_type": "stream",
     "text": [
      "name: mohan\n",
      "\n",
      "balance: 1050.0\n"
     ]
    }
   ],
   "source": [
    "class Account:\n",
    "    def __init__(self,name,balance):\n",
    "        self.name=name\n",
    "        self.balance=balance\n",
    "\n",
    "    def show(self):\n",
    "        print(\"name:\",self.name)\n",
    "        \n",
    "    \n",
    "class savingsacc(Account):\n",
    "    def add_interest(self):\n",
    "        self.balance *=1.05\n",
    "\n",
    "    def display(self):\n",
    "        print(\"balance:\",self.balance)\n",
    "\n",
    "obj = savingsacc(\"mohan\",1000)\n",
    "obj.show()\n",
    "print()\n",
    "obj.add_interest()\n",
    "obj.display()\n"
   ]
  },
  {
   "cell_type": "code",
   "execution_count": 15,
   "id": "dcc9a66d",
   "metadata": {},
   "outputs": [
    {
     "name": "stdout",
     "output_type": "stream",
     "text": [
      "salary: 200\n",
      "name: xyz\n",
      "company: abc\n"
     ]
    }
   ],
   "source": [
    "##multiple -- many parent class but single child class\n",
    "class person:\n",
    "    def __init__(self,name):\n",
    "        self.name=name\n",
    "    def personshow(self):\n",
    "        print(\"name:\",self.name)\n",
    "\n",
    "class company:\n",
    "    def __init__(self,company1):\n",
    "        self.company1 = company1\n",
    "    def companyshow(self):\n",
    "        print(\"company:\",self.company1)\n",
    "\n",
    "class employee(person,company):\n",
    "    def __init__(self,name,salary,company1):\n",
    "\n",
    "        person.__init__(self,name)\n",
    "        company.__init__(self,company1)\n",
    "        self.salary=salary\n",
    "\n",
    "    def employeeshow(self):\n",
    "        print(\"salary:\",self.salary)\n",
    "        person.personshow(self)\n",
    "        company.companyshow(self)\n",
    "\n",
    "obj = employee(\"xyz\",200,\"abc\")\n",
    "obj.employeeshow()\n",
    "        "
   ]
  },
  {
   "cell_type": "code",
   "execution_count": null,
   "id": "9f0a1ef2",
   "metadata": {},
   "outputs": [],
   "source": [
    "class person:\n",
    "    def __init__(self,name):\n",
    "        self.name=name\n",
    "class employee(person):\n",
    "    def __init__(self,name,salary):\n",
    "        ##super --parent class ke method ko call krne ke liye\n",
    "        super().__init__(name)\n",
    "        self.salary=salary"
   ]
  },
  {
   "cell_type": "code",
   "execution_count": null,
   "id": "8b6111aa",
   "metadata": {},
   "outputs": [],
   "source": [
    "##multilevel --- A--->b----->c\n",
    "class uni:\n",
    "    def __init__(self,uni_name):\n",
    "        self.uni_name=uni_name\n",
    "\n",
    "class department(uni):\n",
    "    def __init__(self,uni_name,dep_name):\n",
    "        uni.__init__(self,uni_name)\n",
    "        self.dep_name=dep_name\n",
    "\n",
    "class student(department):\n",
    "    def __init__(self,uni_name,dep_name,student_name):\n",
    "        department.__init__(self,uni_name,dep_name)\n",
    "        self.student_name=student_name\n",
    "    def display(self):\n",
    "        print(\"name:\",self.student_name)\n",
    "        print(\"department:\",self.dep_name)\n",
    "        print(\"university:\",self.uni_name)\n"
   ]
  },
  {
   "cell_type": "code",
   "execution_count": 17,
   "id": "e80a9ae5",
   "metadata": {},
   "outputs": [
    {
     "name": "stdout",
     "output_type": "stream",
     "text": [
      "bark\n",
      "meow\n"
     ]
    }
   ],
   "source": [
    "##polymorphism --  many forms -\n",
    "##method -- it behaves diff according to object\n",
    "##print()\n",
    "##len()---length \n",
    "\n",
    "class dog:\n",
    "    def speak(self):\n",
    "        print(\"bark\")\n",
    "\n",
    "class cat:\n",
    "    def speak(self):\n",
    "        print(\"meow\")\n",
    "\n",
    "def animal_speak(animal):\n",
    "    animal.speak()\n",
    "\n",
    "dog1=dog()\n",
    "cat1=cat()\n",
    "\n",
    "animal_speak(dog1)\n",
    "animal_speak(cat1)"
   ]
  },
  {
   "cell_type": "code",
   "execution_count": null,
   "id": "847c77e7",
   "metadata": {},
   "outputs": [],
   "source": [
    "##encapsulation --\n",
    "#it means hiding the internal details of a \n",
    "# classs and protecting data from being access\n",
    "# or modified directly by the outside world\n",
    "\n",
    "##how you can hide your code \n",
    "##by making your variables private and protected \n",
    "\n",
    "\n",
    "##private variable -- cannot be accessible outside the class\n",
    "#      __varname\n",
    "#  \n",
    "##protected variable -- can be accessible \n",
    "# outside the class but cannot be modified\n",
    "#--- it can be accessible insidethe class and its subclass\n",
    "\n",
    "## _varname"
   ]
  },
  {
   "cell_type": "code",
   "execution_count": null,
   "id": "0829459d",
   "metadata": {},
   "outputs": [
    {
     "name": "stdout",
     "output_type": "stream",
     "text": [
      "60\n"
     ]
    },
    {
     "data": {
      "text/plain": [
       "60"
      ]
     },
     "execution_count": 6,
     "metadata": {},
     "output_type": "execute_result"
    }
   ],
   "source": [
    "class student:\n",
    "    def __init__(self,name,marks):\n",
    "        self.name=name\n",
    "        self.__marks=marks\n",
    "\n",
    "    def get_marks(self):\n",
    "        return self.__marks\n",
    "    \n",
    "    def set_marks(self,marks):\n",
    "        if 0<= marks <= 100:\n",
    "            self.__marks=marks\n",
    "        else:\n",
    "            print(\"invalid marks\")\n",
    "\n",
    "obj = student(\"xyz\",50)\n",
    "obj.set_marks(60)\n",
    "print(obj.get_marks())\n",
    "\n",
    "\n",
    "\n",
    "\n",
    "##name mangling\n",
    "##_classname__attributename\n",
    "obj._student__marks"
   ]
  },
  {
   "cell_type": "code",
   "execution_count": null,
   "id": "f77f09e6",
   "metadata": {},
   "outputs": [],
   "source": []
  }
 ],
 "metadata": {
  "kernelspec": {
   "display_name": "Python 3",
   "language": "python",
   "name": "python3"
  },
  "language_info": {
   "codemirror_mode": {
    "name": "ipython",
    "version": 3
   },
   "file_extension": ".py",
   "mimetype": "text/x-python",
   "name": "python",
   "nbconvert_exporter": "python",
   "pygments_lexer": "ipython3",
   "version": "3.11.9"
  }
 },
 "nbformat": 4,
 "nbformat_minor": 5
}
