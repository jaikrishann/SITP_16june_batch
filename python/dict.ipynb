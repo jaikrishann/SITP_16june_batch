{
 "cells": [
  {
   "cell_type": "code",
   "execution_count": null,
   "id": "3f424b5e",
   "metadata": {},
   "outputs": [],
   "source": [
    "#dt --- key : value pair me \n",
    "##dt -- order , mutable ,\n",
    "# do not  allow duplicate values and heterogeneous(multiple data type values)"
   ]
  },
  {
   "cell_type": "code",
   "execution_count": 15,
   "id": "2cf68753",
   "metadata": {},
   "outputs": [
    {
     "name": "stdout",
     "output_type": "stream",
     "text": [
      "{'age': 20, 'hobby': 'cricket'}\n",
      "<class 'dict'>\n"
     ]
    }
   ],
   "source": [
    "dt = {\n",
    "    \n",
    "    \"age\" : 20 ,\n",
    "    \"hobby\" : \"cricket\"\n",
    "}\n",
    "print(dt)\n",
    "print(type(dt))"
   ]
  },
  {
   "cell_type": "code",
   "execution_count": 5,
   "id": "109f2d1e",
   "metadata": {},
   "outputs": [
    {
     "data": {
      "text/plain": [
       "{'name': 'rohan', 'age': 20, 'hobby': 'cricket'}"
      ]
     },
     "execution_count": 5,
     "metadata": {},
     "output_type": "execute_result"
    }
   ],
   "source": [
    "dt[\"name\"]  = \"rohan\"\n",
    "dt"
   ]
  },
  {
   "cell_type": "code",
   "execution_count": null,
   "id": "9ddd921f",
   "metadata": {},
   "outputs": [
    {
     "data": {
      "text/plain": [
       "{'age': 20, 'hobby': 'cricket', 'name': 'shyam'}"
      ]
     },
     "execution_count": 16,
     "metadata": {},
     "output_type": "execute_result"
    }
   ],
   "source": [
    "# dt.get(\"name\")\n",
    "# dt.keys()\n",
    "# dt.values()\n",
    "# dt.items()\n",
    "# dt.update({\"name\":\"shyam\",\"hello\" : \"world\"})\n",
    "# dt.pop(\"name\")\n",
    "# dt.popitem()\n",
    "# dt.setdefault(\"name\",\"shyam\")\n"
   ]
  },
  {
   "cell_type": "code",
   "execution_count": 17,
   "id": "70591251",
   "metadata": {},
   "outputs": [
    {
     "name": "stdout",
     "output_type": "stream",
     "text": [
      "{'a': 0, 'b': 0, 'c': 0}\n"
     ]
    }
   ],
   "source": [
    "#The fromkeys() method is used to create a new dictionary from a \n",
    "# given sequence of keys,\n",
    "#  with all values set to the same default value.\n",
    "keys = [\"a\",\"b\",\"c\"]\n",
    "new_dict = dict.fromkeys(keys,0)\n",
    "print(new_dict)"
   ]
  },
  {
   "cell_type": "code",
   "execution_count": null,
   "id": "db6efe1e",
   "metadata": {},
   "outputs": [],
   "source": []
  },
  {
   "cell_type": "code",
   "execution_count": null,
   "id": "3dd15e33",
   "metadata": {},
   "outputs": [],
   "source": []
  },
  {
   "cell_type": "code",
   "execution_count": null,
   "id": "f5106968",
   "metadata": {},
   "outputs": [],
   "source": []
  },
  {
   "cell_type": "code",
   "execution_count": null,
   "id": "f6e0d97e",
   "metadata": {},
   "outputs": [],
   "source": []
  }
 ],
 "metadata": {
  "kernelspec": {
   "display_name": "Python 3",
   "language": "python",
   "name": "python3"
  },
  "language_info": {
   "codemirror_mode": {
    "name": "ipython",
    "version": 3
   },
   "file_extension": ".py",
   "mimetype": "text/x-python",
   "name": "python",
   "nbconvert_exporter": "python",
   "pygments_lexer": "ipython3",
   "version": "3.11.9"
  }
 },
 "nbformat": 4,
 "nbformat_minor": 5
}
