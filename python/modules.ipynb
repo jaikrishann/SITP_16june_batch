{
 "cells": [
  {
   "cell_type": "code",
   "execution_count": null,
   "id": "9d36dc84",
   "metadata": {},
   "outputs": [],
   "source": [
    "##modules vs package vs lib \n",
    "#modules diff types of modules\n",
    "#1 - built in modules -- math, random, os, sys, time\n",
    "#2 - user defined modules\n",
    "#3 - third party modules -- pandas, numpy, matplotlib\n"
   ]
  },
  {
   "cell_type": "code",
   "execution_count": null,
   "id": "7e899065",
   "metadata": {},
   "outputs": [],
   "source": [
    "# __init__.py          --- initialize the package"
   ]
  },
  {
   "cell_type": "code",
   "execution_count": 3,
   "id": "4899f06e",
   "metadata": {},
   "outputs": [],
   "source": [
    "# import os\n",
    "# from os import path\n",
    "from str import adddfuntionisinstr\n"
   ]
  },
  {
   "cell_type": "code",
   "execution_count": 4,
   "id": "7acd67c2",
   "metadata": {},
   "outputs": [
    {
     "data": {
      "text/plain": [
       "513"
      ]
     },
     "execution_count": 4,
     "metadata": {},
     "output_type": "execute_result"
    }
   ],
   "source": [
    "adddfuntionisinstr(120,393)"
   ]
  },
  {
   "cell_type": "code",
   "execution_count": 5,
   "id": "0f3d079e",
   "metadata": {},
   "outputs": [],
   "source": [
    "import math "
   ]
  },
  {
   "cell_type": "code",
   "execution_count": null,
   "id": "074cb091",
   "metadata": {},
   "outputs": [
    {
     "data": {
      "text/plain": [
       "2.718281828459045"
      ]
     },
     "execution_count": 13,
     "metadata": {},
     "output_type": "execute_result"
    }
   ],
   "source": [
    "##reuseablitiy \n",
    "math.sqrt(9)\n",
    "math.pow(2,3)\n",
    "math.sin(math.pi/2)\n",
    "math.floor(1.5)\n",
    "math.ceil(1.5)\n",
    "math.pi\n",
    "math.e"
   ]
  },
  {
   "cell_type": "code",
   "execution_count": null,
   "id": "c076952b",
   "metadata": {},
   "outputs": [],
   "source": []
  },
  {
   "cell_type": "code",
   "execution_count": null,
   "id": "a2163dba",
   "metadata": {},
   "outputs": [],
   "source": []
  },
  {
   "cell_type": "code",
   "execution_count": null,
   "id": "7d8fdc34",
   "metadata": {},
   "outputs": [],
   "source": []
  }
 ],
 "metadata": {
  "kernelspec": {
   "display_name": "Python 3",
   "language": "python",
   "name": "python3"
  },
  "language_info": {
   "codemirror_mode": {
    "name": "ipython",
    "version": 3
   },
   "file_extension": ".py",
   "mimetype": "text/x-python",
   "name": "python",
   "nbconvert_exporter": "python",
   "pygments_lexer": "ipython3",
   "version": "3.11.9"
  }
 },
 "nbformat": 4,
 "nbformat_minor": 5
}
