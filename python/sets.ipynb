{
 "cells": [
  {
   "cell_type": "code",
   "execution_count": null,
   "id": "02d017e5",
   "metadata": {},
   "outputs": [],
   "source": [
    "##set -- mutable , unordered ,do not  allow duplicate values and heterogeneous(multiple data type values)\n",
    "## {} -- curly brackets\n",
    "##mathematical "
   ]
  },
  {
   "cell_type": "code",
   "execution_count": null,
   "id": "e61f7772",
   "metadata": {},
   "outputs": [
    {
     "name": "stdout",
     "output_type": "stream",
     "text": [
      "{1, 2, 3, 1.2, 'hello', 'a'}\n",
      "<class 'set'>\n"
     ]
    }
   ],
   "source": [
    "st = {1,\"a\",2,3,\"hello\",True,1.2}\n",
    "##1 --true\n",
    "##0 --false\n",
    "print(st)\n",
    "print(type(st))"
   ]
  },
  {
   "cell_type": "code",
   "execution_count": null,
   "id": "9925558e",
   "metadata": {},
   "outputs": [
    {
     "name": "stdout",
     "output_type": "stream",
     "text": [
      "{1, 2, 3, 1.2, 'hello', 'a', 'jai', 'upflairs'}\n"
     ]
    }
   ],
   "source": [
    "# st.add(\"jai\")\n",
    "# st.pop()\n",
    "# st.remove(\"jai\")\n",
    "# st.discard(\"jai\")\n",
    "# st.update([\"jai\",\"upflairs\"])\n",
    "print(st)"
   ]
  },
  {
   "cell_type": "code",
   "execution_count": null,
   "id": "4ba50c9b",
   "metadata": {},
   "outputs": [
    {
     "name": "stdout",
     "output_type": "stream",
     "text": [
      "set()\n",
      "{3, 4, 5}\n"
     ]
    }
   ],
   "source": [
    "st1 = {1,2}\n",
    "st2 = {3,4,5}\n",
    "##union - merge two sets and it will remove duplicate values\n",
    "# print(st1.union(st2))\n",
    "##intersection -- common values\n",
    "# print(st1.intersection(st2))\n",
    "##difference -- values in st1 but not in st2\n",
    "# print(st1.difference(st2))\n",
    "##symmetric difference -- values in st1 and st2 but not in both\n",
    "# print(st1.symmetric_difference(st2))\n",
    "##issubset -- check if st1 is subset of st2\n",
    "# print(st1.issubset(st2))\n",
    "##issuperset -- check if st1 is superset of st2\n",
    "# print(st2.issuperset(st1))\n",
    "##isdisjoint -- check if st1 and st2 dont have any common values \n",
    "# print(st1.isdisjoint(st2))\n",
    "# st1.intersection_update(st2)\n",
    "print(st1)\n",
    "print(st2)"
   ]
  },
  {
   "cell_type": "code",
   "execution_count": null,
   "id": "3d615835",
   "metadata": {},
   "outputs": [],
   "source": []
  },
  {
   "cell_type": "code",
   "execution_count": null,
   "id": "debe1d26",
   "metadata": {},
   "outputs": [],
   "source": []
  },
  {
   "cell_type": "code",
   "execution_count": null,
   "id": "99dcaaf8",
   "metadata": {},
   "outputs": [],
   "source": []
  },
  {
   "cell_type": "code",
   "execution_count": null,
   "id": "4cdacdbf",
   "metadata": {},
   "outputs": [],
   "source": []
  },
  {
   "cell_type": "code",
   "execution_count": null,
   "id": "363a0e3f",
   "metadata": {},
   "outputs": [],
   "source": []
  }
 ],
 "metadata": {
  "kernelspec": {
   "display_name": "Python 3",
   "language": "python",
   "name": "python3"
  },
  "language_info": {
   "codemirror_mode": {
    "name": "ipython",
    "version": 3
   },
   "file_extension": ".py",
   "mimetype": "text/x-python",
   "name": "python",
   "nbconvert_exporter": "python",
   "pygments_lexer": "ipython3",
   "version": "3.11.9"
  }
 },
 "nbformat": 4,
 "nbformat_minor": 5
}
