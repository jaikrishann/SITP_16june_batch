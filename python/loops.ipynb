{
 "cells": [
  {
   "cell_type": "code",
   "execution_count": null,
   "id": "00736cef",
   "metadata": {},
   "outputs": [],
   "source": [
    "##loops -- for and while "
   ]
  },
  {
   "cell_type": "code",
   "execution_count": null,
   "id": "cab81e38",
   "metadata": {},
   "outputs": [],
   "source": [
    "##for loop --- it is used to iterate over a sequence(list,tuple,dict,range)\n"
   ]
  },
  {
   "cell_type": "code",
   "execution_count": 2,
   "id": "c7fb87ef",
   "metadata": {},
   "outputs": [
    {
     "name": "stdout",
     "output_type": "stream",
     "text": [
      "h\n",
      "e\n",
      "l\n",
      "l\n",
      "o\n"
     ]
    }
   ],
   "source": [
    "#string\n",
    "\n",
    "for _ in \"hello\":\n",
    "    print(_)                 ##i --temporary variable"
   ]
  },
  {
   "cell_type": "code",
   "execution_count": 8,
   "id": "2ad84566",
   "metadata": {},
   "outputs": [
    {
     "name": "stdout",
     "output_type": "stream",
     "text": [
      "name --------- shyam\n",
      "age --------- 20\n",
      "hobby --------- cricket\n"
     ]
    }
   ],
   "source": [
    "dt = {\"name\":\"shyam\",\"age\":20,\"hobby\":\"cricket\"}\n",
    "for i,j  in dt.items():\n",
    "    print(i,\"---------\",j)\n",
    "    # print(dt[i])"
   ]
  },
  {
   "cell_type": "code",
   "execution_count": 10,
   "id": "d74cd921",
   "metadata": {},
   "outputs": [
    {
     "name": "stdout",
     "output_type": "stream",
     "text": [
      "dict_items([('name', 'shyam'), ('age', 20), ('hobby', 'cricket')])\n"
     ]
    }
   ],
   "source": [
    "print(dt.items())"
   ]
  },
  {
   "cell_type": "code",
   "execution_count": 2,
   "id": "4a53329c",
   "metadata": {},
   "outputs": [
    {
     "name": "stdout",
     "output_type": "stream",
     "text": [
      "1\n",
      "3\n",
      "5\n",
      "7\n",
      "9\n"
     ]
    }
   ],
   "source": [
    "for i in range(1,10,2):\n",
    "    print(i)"
   ]
  },
  {
   "cell_type": "code",
   "execution_count": 3,
   "id": "b31d37c1",
   "metadata": {},
   "outputs": [
    {
     "name": "stdout",
     "output_type": "stream",
     "text": [
      "1 a\n",
      "1 b\n",
      "1 c\n",
      "2 a\n",
      "2 b\n",
      "2 c\n",
      "3 a\n",
      "3 b\n",
      "3 c\n"
     ]
    }
   ],
   "source": [
    "##nested loop \n",
    "lst = [1,2,3]\n",
    "lst1 = [\"a\",\"b\",\"c\"]\n",
    "\n",
    "for i in lst:\n",
    "    for j in lst1:\n",
    "        print(i,j)"
   ]
  },
  {
   "cell_type": "code",
   "execution_count": 4,
   "id": "df86d7c6",
   "metadata": {},
   "outputs": [
    {
     "name": "stdout",
     "output_type": "stream",
     "text": [
      "1\n",
      "2\n",
      "3\n",
      "4\n",
      "5\n"
     ]
    }
   ],
   "source": [
    "##break \n",
    "for i in range(1,10):\n",
    "    print(i)\n",
    "    if i == 5:\n",
    "        break\n",
    "    "
   ]
  },
  {
   "cell_type": "code",
   "execution_count": 6,
   "id": "7f7db271",
   "metadata": {},
   "outputs": [
    {
     "name": "stdout",
     "output_type": "stream",
     "text": [
      "1\n",
      "2\n",
      "3\n",
      "4\n",
      "6\n",
      "7\n",
      "8\n",
      "9\n"
     ]
    }
   ],
   "source": [
    "##continue\n",
    "for i in range(1,10):\n",
    "    if i == 5:\n",
    "        continue\n",
    "    print(i)\n"
   ]
  },
  {
   "cell_type": "code",
   "execution_count": 8,
   "id": "c2e6fd46",
   "metadata": {},
   "outputs": [],
   "source": [
    "for i in range(1,10):\n",
    "    pass"
   ]
  },
  {
   "cell_type": "code",
   "execution_count": 9,
   "id": "165160fa",
   "metadata": {},
   "outputs": [
    {
     "name": "stdout",
     "output_type": "stream",
     "text": [
      "[1, 4, 9, 16, 25]\n"
     ]
    }
   ],
   "source": [
    "##list ke elements ka kyaa karna hai square aur \n",
    "#output mujhe list me he chiaye \n",
    "\n",
    "lst = [1,2,3,4,5]\n",
    "lst1 = []\n",
    "for i in lst:\n",
    "    lst1.append(i**2)\n",
    "print(lst1)"
   ]
  },
  {
   "cell_type": "code",
   "execution_count": 10,
   "id": "eb497f59",
   "metadata": {},
   "outputs": [
    {
     "name": "stdout",
     "output_type": "stream",
     "text": [
      "[5, 4, 3, 2, 1]\n"
     ]
    }
   ],
   "source": [
    "##list ko reverse using loop\n",
    "\n",
    "lst = [1,2,3,4,5]\n",
    "lst1 = []\n",
    "for i in range(len(lst)-1,-1,-1):\n",
    "    lst1.append(lst[i])\n",
    "print(lst1)"
   ]
  },
  {
   "cell_type": "code",
   "execution_count": 11,
   "id": "9b4eedf6",
   "metadata": {},
   "outputs": [
    {
     "name": "stdout",
     "output_type": "stream",
     "text": [
      "1\n",
      "2\n",
      "3\n",
      "4\n",
      "5\n",
      "6\n",
      "7\n",
      "8\n",
      "9\n",
      "10\n"
     ]
    }
   ],
   "source": [
    "##while loop ---condition --true \n",
    "\n",
    "i = 1\n",
    "while i <= 10:\n",
    "    print(i)\n",
    "    i += 1"
   ]
  },
  {
   "cell_type": "code",
   "execution_count": 12,
   "id": "3479211e",
   "metadata": {},
   "outputs": [
    {
     "name": "stdout",
     "output_type": "stream",
     "text": [
      "1\n",
      "2\n",
      "3\n",
      "4\n",
      "5\n"
     ]
    }
   ],
   "source": [
    "#break \n",
    "\n",
    "i = 1\n",
    "while i <= 10:\n",
    "    print(i)\n",
    "    if i == 5:\n",
    "        break\n",
    "    i += 1"
   ]
  },
  {
   "cell_type": "code",
   "execution_count": 13,
   "id": "17c5758b",
   "metadata": {},
   "outputs": [
    {
     "name": "stdout",
     "output_type": "stream",
     "text": [
      "1\n",
      "2\n",
      "3\n",
      "4\n",
      "6\n",
      "7\n",
      "8\n",
      "9\n",
      "10\n"
     ]
    }
   ],
   "source": [
    "#continue\n",
    "\n",
    "i = 1\n",
    "while i <= 10:\n",
    "    if i == 5:\n",
    "        i += 1\n",
    "        continue\n",
    "    print(i)\n",
    "    i += 1"
   ]
  },
  {
   "cell_type": "code",
   "execution_count": null,
   "id": "339ebc67",
   "metadata": {},
   "outputs": [],
   "source": []
  }
 ],
 "metadata": {
  "kernelspec": {
   "display_name": "Python 3",
   "language": "python",
   "name": "python3"
  },
  "language_info": {
   "codemirror_mode": {
    "name": "ipython",
    "version": 3
   },
   "file_extension": ".py",
   "mimetype": "text/x-python",
   "name": "python",
   "nbconvert_exporter": "python",
   "pygments_lexer": "ipython3",
   "version": "3.11.9"
  }
 },
 "nbformat": 4,
 "nbformat_minor": 5
}
